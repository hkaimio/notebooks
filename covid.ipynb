{
 "cells": [
  {
   "cell_type": "code",
   "execution_count": null,
   "metadata": {},
   "outputs": [],
   "source": [
    "from pyjstat import pyjstat\n",
    "import pandas as pd\n",
    "import numpy as np\n",
    "import matplotlib.pyplot as plt\n",
    "import datetime\n",
    "from matplotlib.ticker import ScalarFormatter\n",
    "import requests\n",
    "import pytz\n",
    "from pandas.plotting import register_matplotlib_converters\n",
    "from ruamel.yaml import YAML\n",
    "register_matplotlib_converters()"
   ]
  },
  {
   "cell_type": "code",
   "execution_count": null,
   "metadata": {},
   "outputs": [],
   "source": [
    "fi_tz = pytz.timezone(\"Europe/Helsinki\")\n"
   ]
  },
  {
   "cell_type": "code",
   "execution_count": null,
   "metadata": {},
   "outputs": [],
   "source": [
    "annotations = [\n",
    "    (datetime.datetime(2020,3,18, tzinfo=fi_tz), \"Poikkeustila voimaan\"),\n",
    "    (datetime.datetime(2020,5,14, tzinfo=fi_tz), \"Takaisin kouluun\"),\n",
    "    (datetime.datetime(2020,10,2, tzinfo=fi_tz), \"Kasvomaskisuositus\"),\n",
    "    (datetime.datetime(2020,10,15, tzinfo=fi_tz), \"Uudet suositukset\")\n",
    "]"
   ]
  },
  {
   "cell_type": "code",
   "execution_count": null,
   "metadata": {},
   "outputs": [],
   "source": [
    "annotations = [\n",
    "    (datetime.datetime(2020,3,18, tzinfo=fi_tz), \"Poikkeustila voimaan\"),\n",
    "    (datetime.datetime(2020,5,14, tzinfo=fi_tz), \"Takaisin kouluun\"),\n",
    "    (datetime.datetime(2020,10,2, tzinfo=fi_tz), \"Kasvomaskisuositus\"),\n",
    "    (datetime.datetime(2020,10,15, tzinfo=fi_tz), \"Uudet suositukset\"),\n",
    "    (datetime.datetime(2020,11,19, tzinfo=fi_tz), \"HUS leviämisv.\"),\n",
    "    (datetime.datetime(2020,11,30, tzinfo=fi_tz), \"HUS uudet rajoitukset\"),\n",
    "    (datetime.datetime(2021,3,1, tzinfo=fi_tz), \"Ravintolarajoitukset\"),\n",
    "    # (datetime.date(2021,3,8), \"Poikkeustila 2\"),\n",
    "    (datetime.datetime(2021,4,18, tzinfo=fi_tz), \"Ravintolat auki\"),\n",
    "    (datetime.datetime(2021,4,29, tzinfo=fi_tz), \"Kuntosalit auki\"),\n",
    "]\n",
    "\n",
    "annotations_infected = [\n",
    "#    (datetime.date(2020,11,14), \"Vikat koiradojotreenit :(\"),\n",
    "]\n"
   ]
  },
  {
   "cell_type": "code",
   "execution_count": null,
   "metadata": {},
   "outputs": [],
   "source": [
    "infected_url = \"https://w3qa5ydb4l.execute-api.eu-west-1.amazonaws.com/prod/processedThlData\"\n",
    "\n",
    "def get_data(shp):\n",
    "    resp = requests.get(infected_url)\n",
    "    if resp.status_code != 200:\n",
    "        raise Exception(f\"Data loading failed {resp.status_code}\")\n",
    "    data_json = resp.json()\n",
    "\n",
    "    dates = [(r[\"date\"], r[\"value\"]) for r in data_json[\"confirmed\"][shp]]\n",
    "    infected = pd.DataFrame([r[1] for r in dates], index = pd.to_datetime([r[0] for r in dates]), columns=[\"infected\"])\n",
    "    for n in range(0, infected.shape[0]-7):\n",
    "        infected.loc[infected.index[n+7], \"infected_last_week\"] = infected.iloc[n,0]\n",
    "    for n in range(0, infected.shape[0]-7):\n",
    "        sum = 0\n",
    "        for i in range(7):\n",
    "            sum += infected.iloc[n+i,0]\n",
    "        infected.loc[infected.index[n+7], \"infected_sum_last_week\"] = sum\n",
    "    for n in range(0, infected.shape[0]-7):\n",
    "        infected.loc[infected.index[n+7], \"infected_sum_previous_week\"] = infected.iloc[n,2]\n",
    "    infected[\"weekly_change\"] = infected[\"infected_sum_last_week\"] / infected[\"infected_sum_previous_week\"]\n",
    "    return infected\n"
   ]
  },
  {
   "cell_type": "code",
   "execution_count": null,
   "metadata": {},
   "outputs": [],
   "source": [
    "def add_vline(ax, x, label, column):\n",
    "    x_bounds = ax.get_xlim()\n",
    "    ax.axvline(x=x, ymin=0, ymax=1)     \n",
    "    ax.annotate(s='label', xy =(((x-x_bounds[0])/(x_bounds[1]-x_bounds[0])),1.01), xycoords='axes fraction', verticalalignment='right', horizontalalignment='right bottom' , rotation = 270)\n",
    "\n",
    "def get_fwd_range(data, start_index, max_items, column):\n",
    "    fwd_data = data.loc[start_index:]\n",
    "    row_count = fwd_data.shape[0]\n",
    "    if row_count > max_items:\n",
    "        fwd_data = fwd_data[:max_items]\n",
    "    return (fwd_data[column].min(), fwd_data[column].max())\n",
    "\n",
    "_default_start = fi_tz.localize(datetime.datetime(2020,3,1, 12, 0, 0))\n",
    "\n",
    "def plot_history(shp, start_date=_default_start, end_date=None):\n",
    "    if not end_date:\n",
    "        end_date = fi_tz.localize(datetime.datetime.now()) - datetime.timedelta(days=3)\n",
    "    fi_data = get_data(shp)\n",
    "    fig, ax = plt.subplots(2,1,figsize=(12,12))\n",
    "    ax[0].set_xlim(start_date, end_date)\n",
    "    ax[0].plot(fi_data[\"weekly_change\"])\n",
    "    #ax[0].vlines(datetime.date(2020,3,18), 0, 14, color='green')\n",
    "    #add_vline(ax[0], datetime.date(2020,3,18), \"Poikkeustila\")\n",
    "    for d, ann in annotations:\n",
    "        if d >= start_date and d <= end_date:\n",
    "            try:\n",
    "                yval = fi_data.loc[str(d)][\"weekly_change\"][0]\n",
    "                \n",
    "                # Determine where to put the label\n",
    "                ymin, ymax = get_fwd_range(fi_data, d, 30, \"weekly_change\")\n",
    "                dy = 15\n",
    "                if yval - ymin < ymax-yval:\n",
    "                    # Future data is mostly above current Y value so put label below it\n",
    "                    dy = -15\n",
    "\n",
    "                if not np.isfinite(yval):\n",
    "                    yval = 0.3\n",
    "                ax[0].annotate(ann, (d, yval), xytext=(0, dy), \n",
    "                        textcoords='offset points', arrowprops=dict(arrowstyle='-|>'))\n",
    "            except Exception as e:\n",
    "                pass\n",
    "\n",
    "    ax[0].set_ylim(0.3,14)\n",
    "    ax[0].set_yscale(\"log\", base=2)\n",
    "    ax[0].yaxis.set_major_formatter(ScalarFormatter())\n",
    "    ax[0].set_ylabel(\"Tartunamäärän suhteellinen muutos viikossa\")\n",
    "    ax[0].hlines(1, start_date, end_date, color='red')\n",
    "    ax[0].hlines(2, start_date, end_date, color='gray')\n",
    "    ax[0].hlines(1.4, start_date, end_date, color='gray')\n",
    "\n",
    "    ax[1].plot(fi_data[\"infected_sum_last_week\"])\n",
    "    ax[1].set_xlim(start_date, end_date)\n",
    "    ax[1].set_yscale(\"log\", base=10)\n",
    "    ax[1].yaxis.set_major_formatter(ScalarFormatter())\n",
    "    ax[1].set_ylabel(\"Tartuntoja viikossa\")\n",
    "\n",
    "    for d, ann in annotations_infected:\n",
    "        if d >= start_date and d <= end_date:\n",
    "            try:\n",
    "                yval = fi_data.loc[str(d)][\"infected_sum_last_week\"][0]\n",
    "                if not np.isfinite(yval):\n",
    "                    yval = 0.3\n",
    "                ax[1].annotate(ann, (d, yval), xytext=(0, 15), \n",
    "                        textcoords='offset points', arrowprops=dict(arrowstyle='-|>'))\n",
    "            except Exception as e:\n",
    "                pass\n",
    "\n",
    "\n",
    "    # Draw current level\n",
    "    current = fi_data.iloc[[fi_data.index.get_loc(end_date, method='nearest')]][\"infected_sum_last_week\"]\n",
    "    ax[1].hlines(current, start_date, end_date, color=\"lightgray\")\n",
    "\n",
    "    ax[0].set_facecolor(\"white\")\n",
    "    ax[1].set_facecolor(\"white\")\n",
    "    fig.suptitle(f\"COVID, {shp}\")\n",
    "    fig.set_facecolor(\"white\")"
   ]
  },
  {
   "cell_type": "code",
   "execution_count": null,
   "metadata": {},
   "outputs": [],
   "source": [
    "all_data = get_data(\"Kaikki sairaanhoitopiirit\")\n",
    "all_data.iloc[-10:]"
   ]
  },
  {
   "cell_type": "code",
   "execution_count": null,
   "metadata": {},
   "outputs": [],
   "source": [
    "plot_history(\"Kaikki sairaanhoitopiirit\")"
   ]
  },
  {
   "cell_type": "code",
   "execution_count": null,
   "metadata": {},
   "outputs": [],
   "source": [
    "plot_history(\"HUS\")"
   ]
  },
  {
   "cell_type": "code",
   "execution_count": null,
   "metadata": {},
   "outputs": [],
   "source": [
    "hus_data = get_data(\"HUS\")\n",
    "hus_data.iloc[-10:]"
   ]
  },
  {
   "cell_type": "code",
   "execution_count": null,
   "metadata": {},
   "outputs": [],
   "source": [
    "plot_history(\"HUS\", start_date=datetime.datetime(2020,8,1, tzinfo=fi_tz))\n"
   ]
  },
  {
   "cell_type": "code",
   "execution_count": null,
   "metadata": {},
   "outputs": [],
   "source": [
    "\n",
    "hus_data = get_data(\"HUS\")\n",
    "hus_data.iloc[-1][\"infected_sum_last_week\"]"
   ]
  },
  {
   "cell_type": "code",
   "execution_count": null,
   "metadata": {},
   "outputs": [],
   "source": [
    "yaml = YAML()\n",
    "with open(\"vantaa_rokotukset.yaml\") as f:\n",
    "    vantaa_rokotukset = pd.DataFrame(yaml.load(f)).set_index(\"date\")"
   ]
  },
  {
   "cell_type": "code",
   "execution_count": null,
   "metadata": {},
   "outputs": [],
   "source": [
    "vantaa_rokotukset[reversed([\"12-19\", \"20-24\", \"25-29\", \"30-34\", \"35-39\", \"40-44\", \"45-49\", \"40-49\", \"50-59\", \"50-54\", \"55-59\", \"60-69\", \"60-64\", \"65-69\", \"yli 70\", \"70-79\", \"yli 80\", \"riskiryhmät\"])].plot(figsize=(15,8))"
   ]
  },
  {
   "cell_type": "code",
   "execution_count": null,
   "metadata": {},
   "outputs": [],
   "source": [
    "vantaa_rokotukset[reversed([\"toinen 12-19\", \"toinen 20-24\", \"toinen 25-29\", \"toinen 30-34\", \"toinen 35-39\", \"toinen 40-44\", \"toinen 45-49\", \"toinen 50-54\", \"toinen 55-59\", \"toinen 60-69\", \"toinen 60-64\", \"toinen 65-69\", \"toinen yli 70\"])].plot(figsize=(15,8))"
   ]
  },
  {
   "cell_type": "code",
   "execution_count": null,
   "metadata": {
    "tags": []
   },
   "outputs": [],
   "source": [
    "vantaa_rokotukset[[\"yhteensä\"]].plot(figsize=(15,8))"
   ]
  },
  {
   "cell_type": "code",
   "execution_count": null,
   "metadata": {},
   "outputs": [],
   "source": []
  }
 ],
 "metadata": {
  "interpreter": {
   "hash": "b42f6e5b93ab12e93350f646d3df3cf8003718c46e963914f6b8df14547e6de8"
  },
  "kernelspec": {
   "display_name": "Python 3.8.10 64-bit ('jupyter-Uh5b_UAO': virtualenv)",
   "name": "python3"
  },
  "language_info": {
   "codemirror_mode": {
    "name": "ipython",
    "version": 3
   },
   "file_extension": ".py",
   "mimetype": "text/x-python",
   "name": "python",
   "nbconvert_exporter": "python",
   "pygments_lexer": "ipython3",
   "version": "3.8.10"
  },
  "orig_nbformat": 2
 },
 "nbformat": 4,
 "nbformat_minor": 2
}
